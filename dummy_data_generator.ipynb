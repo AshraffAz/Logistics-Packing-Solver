{
 "cells": [
  {
   "cell_type": "code",
   "execution_count": 2,
   "id": "5a5da2f0",
   "metadata": {},
   "outputs": [],
   "source": [
    "import pandas as pd\n",
    "import numpy as np\n",
    "import random\n",
    "import itertools\n",
    "import matplotlib.pyplot as plt\n",
    "import matplotlib.patches as patches\n",
    "import matplotlib.colors as mcolors"
   ]
  },
  {
   "cell_type": "code",
   "execution_count": 2,
   "id": "9903b1a0",
   "metadata": {},
   "outputs": [],
   "source": [
    "\n",
    "# List of destinations (cities in West Malaysia)\n",
    "destinations = [\"Kuala Lumpur\", \"Ipoh\", \"Melaka\"]\n",
    "\n",
    "# Create a DataFrame with (no_items) rows\n",
    "no_items = 100\n",
    "df = pd.DataFrame(index=range(no_items))\n",
    "\n",
    "# Generate random data for the attributes\n",
    "df[\"Weight\"] = np.random.uniform(1, 100, no_items)  # Random weights between 1kg and 100kg\n",
    "df[\"Height\"] = np.random.uniform(0.1, 2, no_items)  # Random heights between 0.1m and 2m\n",
    "df[\"Length\"] = np.random.uniform(0.1, 2, no_items)  # Random lengths between 0.1m and 2m\n",
    "df[\"Width\"] = np.random.uniform(0.1, 2, no_items)  # Random widths between 0.1m and 2m\n",
    "df[\"Volume\"] = df[\"Height\"] * df[\"Length\"] * df[\"Width\"]  # Volume as a function of height, length, and width\n",
    "df[\"Fragility\"] = np.random.choice([0, 1], no_items)  # Random fragility (0 or 1)\n",
    "df[\"Destination\"] = np.random.choice(destinations, no_items)  # Random destination from the list\n",
    "df['ID'] = range(1, len(df) + 1)\n",
    "\n",
    "# Format the DataFrame for CSV output\n",
    "df.to_csv('dummy_data2.csv', index=False)\n"
   ]
  },
  {
   "cell_type": "markdown",
   "id": "9c68e904",
   "metadata": {},
   "source": [
    "# 20 items and 1 destination; no fragility"
   ]
  },
  {
   "cell_type": "code",
   "execution_count": 4,
   "id": "5c6b63e1",
   "metadata": {},
   "outputs": [],
   "source": [
    "# List of destinations (cities in West Malaysia)\n",
    "destinations = [\"Kuala Lumpur\"]\n",
    "\n",
    "# Create a DataFrame with (no_items) rows\n",
    "no_items = 20\n",
    "df = pd.DataFrame(index=range(no_items))\n",
    "\n",
    "# Generate random data for the attributes\n",
    "df[\"Weight\"] = np.random.uniform(1, 100, no_items)  # Random weights between 1kg and 100kg\n",
    "df[\"Height\"] = np.random.uniform(0.1, 2, no_items)  # Random heights between 0.1m and 2m\n",
    "df[\"Length\"] = np.random.uniform(0.1, 2, no_items)  # Random lengths between 0.1m and 2m\n",
    "df[\"Width\"] = np.random.uniform(0.1, 2, no_items)  # Random widths between 0.1m and 2m\n",
    "df[\"Volume\"] = df[\"Height\"] * df[\"Length\"] * df[\"Width\"]  # Volume as a function of height, length, and width\n",
    "df[\"Destination\"] = np.random.choice(destinations, no_items)  # Random destination from the list\n",
    "df['ID'] = range(1, len(df) + 1)\n",
    "\n",
    "# Format the DataFrame for CSV output\n",
    "df.to_csv('dummy_data3.csv', index=False)\n"
   ]
  },
  {
   "cell_type": "code",
   "execution_count": null,
   "id": "7083056f",
   "metadata": {},
   "outputs": [],
   "source": []
  }
 ],
 "metadata": {
  "kernelspec": {
   "display_name": "Python 3 (ipykernel)",
   "language": "python",
   "name": "python3"
  },
  "language_info": {
   "codemirror_mode": {
    "name": "ipython",
    "version": 3
   },
   "file_extension": ".py",
   "mimetype": "text/x-python",
   "name": "python",
   "nbconvert_exporter": "python",
   "pygments_lexer": "ipython3",
   "version": "3.9.13"
  }
 },
 "nbformat": 4,
 "nbformat_minor": 5
}
